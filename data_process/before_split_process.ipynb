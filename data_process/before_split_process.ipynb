{
 "cells": [
  {
   "cell_type": "code",
   "execution_count": 1,
   "metadata": {},
   "outputs": [],
   "source": [
    "#将原始微博与转发微博合并\n",
    "def combine_text(item):\n",
    "    text = item['text']\n",
    "    original = item['original']\n",
    "    if original.get('text'):\n",
    "        text = text + \"//\" + original['text']\n",
    "    return text"
   ]
  },
  {
   "cell_type": "code",
   "execution_count": 2,
   "metadata": {},
   "outputs": [],
   "source": [
    "##去掉文本中的转发用户名\n",
    "def remove_username(text): \n",
    "    while True:\n",
    "        pos = text.find('//@')\n",
    "        if pos == -1:\n",
    "            break\n",
    "        pos2 = text.find(':',pos)\n",
    "        if pos2 == -1:\n",
    "            break\n",
    "        n = len(text)\n",
    "        text = text[0:pos+2] + text[pos2+1:]\n",
    "        #print(text)\n",
    "    return text\n",
    "        "
   ]
  },
  {
   "cell_type": "code",
   "execution_count": 4,
   "metadata": {},
   "outputs": [],
   "source": [
    "if __name__ == '__main__':\n",
    "    uid_list = []\n",
    "    with open('../../data/uid.txt','r',encoding = 'utf-8') as f1:\n",
    "        while True:\n",
    "            line = f1.readline()\n",
    "            if not line:\n",
    "                break\n",
    "            uid_list.append(line.strip())\n",
    "        f1.close()\n",
    "    for uid in uid_list:\n",
    "        filename = '../../data/train/'+uid+'.dat'\n",
    "        output = '../../data/text/before_split/'+uid+'.txt'\n",
    "        result = {}\n",
    "        with open(filename,'r',encoding='utf-8') as f:\n",
    "            with open(output,'w',encoding='utf-8') as f2:\n",
    "                while True:\n",
    "                    line = f.readline()\n",
    "                    if not line:\n",
    "                        break;\n",
    "                    line = eval(line)\n",
    "                    text = combine_text(line) #将原始微博与转发微博合并\n",
    "                    text = remove_username(text) ##去掉文本中的转发用户名\n",
    "                    text = text.replace('\\n','').strip()\n",
    "                    id = line['id']\n",
    "                    result[id] = text;\n",
    "                f2.write(str(result))\n",
    "                f2.close()\n",
    "            f.close()"
   ]
  }
 ],
 "metadata": {
  "kernelspec": {
   "display_name": "Python 3",
   "language": "python",
   "name": "python3"
  },
  "language_info": {
   "codemirror_mode": {
    "name": "ipython",
    "version": 3
   },
   "file_extension": ".py",
   "mimetype": "text/x-python",
   "name": "python",
   "nbconvert_exporter": "python",
   "pygments_lexer": "ipython3",
   "version": "3.7.0"
  }
 },
 "nbformat": 4,
 "nbformat_minor": 2
}
