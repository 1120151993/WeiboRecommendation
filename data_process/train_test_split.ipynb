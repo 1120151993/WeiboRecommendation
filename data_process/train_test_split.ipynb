{
 "cells": [
  {
   "cell_type": "code",
   "execution_count": 1,
   "metadata": {},
   "outputs": [],
   "source": [
    "###划分训练集和测试集\n",
    "##划分原则：取目标用户最近的40条微博，以及同时间段内的主页微博作为测试集，其余为训练集\n",
    "import datetime\n",
    "import time\n",
    "#读uid list\n",
    "uid = []\n",
    "with open('../../data/uid.txt','r',encoding='utf-8') as f:\n",
    "    while True:\n",
    "        line = f.readline()\n",
    "        if not line:\n",
    "            break\n",
    "        uid.append(line.strip())\n",
    "    f.close()    "
   ]
  },
  {
   "cell_type": "code",
   "execution_count": 2,
   "metadata": {},
   "outputs": [
    {
     "name": "stdout",
     "output_type": "stream",
     "text": [
      "1900-02-27 00:00:00\n",
      "1900-02-27 00:00:00\n",
      "1900-02-27 00:00:00\n",
      "1900-02-27 00:00:00\n",
      "1900-02-24 00:00:00\n",
      "1900-02-20 00:00:00\n",
      "1900-03-01 00:00:00\n",
      "1900-02-21 00:00:00\n",
      "1900-02-23 00:00:00\n",
      "1900-02-25 00:00:00\n",
      "1900-02-20 00:00:00\n",
      "1900-03-01 00:00:00\n",
      "1900-02-26 00:00:00\n",
      "1900-02-26 00:00:00\n",
      "1900-02-26 00:00:00\n",
      "1900-02-28 00:00:00\n",
      "1900-02-28 00:00:00\n",
      "1900-02-28 00:00:00\n",
      "1900-02-26 00:00:00\n",
      "1900-02-25 00:00:00\n"
     ]
    }
   ],
   "source": [
    "import datetime\n",
    "import time\n",
    "for u in uid:\n",
    "    filename1 = '../../data/sample/user_'+u+'.dat' #读 用户历史微博\n",
    "    filename2 = '../../data/sample/user_'+u+'_follow.dat'#读 主页微博\n",
    "    filename3 = '../../data/train/'+u+'.dat'# 写 训练集\n",
    "    filename4 = '../../data/test/'+u+'.dat' # 写 测试集\n",
    "    split_time = ''\n",
    "    count = 0\n",
    "    with open(filename3,'w',encoding='utf-8') as f3:\n",
    "        with open(filename4,'w',encoding='utf-8') as f4:\n",
    "            with open(filename1,'r',encoding='utf-8') as f1:\n",
    "                for i in range(1,41): ##最近四十条微博为测试集\n",
    "                    line = f1.readline()\n",
    "                    f4.write(str(line))\n",
    "                line = eval(line)\n",
    "                split_time = line['time'] ##记录分割时间\n",
    "                while True:\n",
    "                    line = f1.readline()\n",
    "                    if not line:\n",
    "                        break\n",
    "                    f3.write(line)\n",
    "                f1.close()\n",
    "            try:\n",
    "                split_time = datetime.datetime.strptime(split_time, '%m-%d')\n",
    "            except:\n",
    "                print('parse user time error')\n",
    "            print(split_time)\n",
    "            with open(filename2,'r',encoding = 'utf-8') as f2:\n",
    "                while True:\n",
    "                    line = f2.readline()\n",
    "                    if not line:\n",
    "                        break\n",
    "                    d = eval(line)\n",
    "                    time = d['time']\n",
    "                    if time.startswith('201'):\n",
    "                        f3.write(line)\n",
    "                        continue\n",
    "                    try:\n",
    "                        t_time = datetime.datetime.strptime(time, '%m-%d')\n",
    "                    except:\n",
    "                        f4.write(line)\n",
    "                        continue\n",
    "                    if t_time < split_time: ##判断时间\n",
    "                        f3.write(line)\n",
    "                    else:\n",
    "                        f4.write(line)\n",
    "                f2.close()\n",
    "            f4.close()\n",
    "        f3.close()\n",
    "                    "
   ]
  },
  {
   "cell_type": "code",
   "execution_count": null,
   "metadata": {},
   "outputs": [],
   "source": []
  }
 ],
 "metadata": {
  "kernelspec": {
   "display_name": "Python 3",
   "language": "python",
   "name": "python3"
  },
  "language_info": {
   "codemirror_mode": {
    "name": "ipython",
    "version": 3
   },
   "file_extension": ".py",
   "mimetype": "text/x-python",
   "name": "python",
   "nbconvert_exporter": "python",
   "pygments_lexer": "ipython3",
   "version": "3.7.0"
  }
 },
 "nbformat": 4,
 "nbformat_minor": 2
}
