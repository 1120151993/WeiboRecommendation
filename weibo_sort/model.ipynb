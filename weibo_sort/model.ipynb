{
 "cells": [
  {
   "cell_type": "code",
   "execution_count": 1,
   "metadata": {},
   "outputs": [
    {
     "name": "stderr",
     "output_type": "stream",
     "text": [
      "C:\\Users\\admin\\AppData\\Roaming\\Python\\Python37\\site-packages\\sklearn\\externals\\joblib\\__init__.py:15: FutureWarning: sklearn.externals.joblib is deprecated in 0.21 and will be removed in 0.23. Please import this functionality directly from joblib, which can be installed with: pip install joblib. If this warning is raised when loading pickled models, you may need to re-serialize those models with scikit-learn 0.21+.\n",
      "  warnings.warn(msg, category=FutureWarning)\n"
     ]
    }
   ],
   "source": [
    "import numpy as np\n",
    "from sklearn.neural_network import MLPClassifier\n",
    "from sklearn import model_selection\n",
    "from sklearn.linear_model import LogisticRegression\n",
    "from sklearn.metrics import classification_report\n",
    "from sklearn.externals import joblib\n",
    "from sklearn import preprocessing"
   ]
  },
  {
   "cell_type": "code",
   "execution_count": 2,
   "metadata": {},
   "outputs": [],
   "source": [
    "##模型训练"
   ]
  },
  {
   "cell_type": "code",
   "execution_count": 3,
   "metadata": {},
   "outputs": [],
   "source": [
    "sample = np.loadtxt('train.dat')\n",
    "x = sample[:,1:-1]\n",
    "scaler=preprocessing.StandardScaler().fit(x)\n",
    "x=scaler.transform(x)\n",
    "y = sample[:,-1]\n",
    "x_train,y_train=x,y"
   ]
  },
  {
   "cell_type": "code",
   "execution_count": 5,
   "metadata": {},
   "outputs": [
    {
     "data": {
      "text/plain": [
       "MLPClassifier(activation='relu', alpha=0.0001, batch_size='auto', beta_1=0.9,\n",
       "       beta_2=0.999, early_stopping=False, epsilon=1e-08,\n",
       "       hidden_layer_sizes=(64, 32, 32, 16, 16), learning_rate='constant',\n",
       "       learning_rate_init=0.001, max_iter=300, momentum=0.9,\n",
       "       nesterovs_momentum=True, power_t=0.5, random_state=None,\n",
       "       shuffle=True, solver='adam', tol=0.0001, validation_fraction=0.1,\n",
       "       verbose=False, warm_start=False)"
      ]
     },
     "execution_count": 5,
     "metadata": {},
     "output_type": "execute_result"
    }
   ],
   "source": [
    "\n",
    "model = MLPClassifier(solver='adam',max_iter=300,learning_rate_init=0.001,hidden_layer_sizes=(64,32,32,16,16))\n",
    "model.fit(x_train,y_train)"
   ]
  },
  {
   "cell_type": "code",
   "execution_count": 44,
   "metadata": {
    "scrolled": true
   },
   "outputs": [
    {
     "name": "stdout",
     "output_type": "stream",
     "text": [
      "             precision    recall  f1-score   support\n",
      "\n",
      "        0.0       0.91      0.90      0.90      3160\n",
      "        1.0       0.90      0.91      0.90      3120\n",
      "\n",
      "avg / total       0.90      0.90      0.90      6280\n",
      "\n"
     ]
    }
   ],
   "source": [
    "##训练集效果评估\n",
    "y_pred =  model.predict(x_train)\n",
    "print(classification_report(y_train,y_pred))"
   ]
  },
  {
   "cell_type": "code",
   "execution_count": 26,
   "metadata": {},
   "outputs": [
    {
     "name": "stdout",
     "output_type": "stream",
     "text": [
      "             precision    recall  f1-score   support\n",
      "\n",
      "        0.0       0.89      0.75      0.81       657\n",
      "        1.0       0.77      0.90      0.83       599\n",
      "\n",
      "avg / total       0.83      0.82      0.82      1256\n",
      "\n"
     ]
    }
   ],
   "source": [
    "##测试集效果评估\n",
    "y_pred =  model.predict(x_test)\n",
    "print(classification_report(y_test,y_pred))"
   ]
  },
  {
   "cell_type": "code",
   "execution_count": 48,
   "metadata": {},
   "outputs": [
    {
     "data": {
      "text/plain": [
       "['../system/model_282.pkl']"
      ]
     },
     "execution_count": 48,
     "metadata": {},
     "output_type": "execute_result"
    }
   ],
   "source": [
    "##保存模型\n",
    "joblib.dump(model,'../system/model.pkl')"
   ]
  },
  {
   "cell_type": "code",
   "execution_count": 13,
   "metadata": {},
   "outputs": [
    {
     "name": "stderr",
     "output_type": "stream",
     "text": [
      "C:\\Users\\admin\\AppData\\Roaming\\Python\\Python37\\site-packages\\sklearn\\base.py:318: UserWarning: Trying to unpickle estimator LabelBinarizer from version 0.19.1 when using version 0.22.2.post1. This might lead to breaking code or invalid results. Use at your own risk.\n",
      "  UserWarning)\n",
      "C:\\Users\\admin\\AppData\\Roaming\\Python\\Python37\\site-packages\\sklearn\\base.py:318: UserWarning: Trying to unpickle estimator MLPClassifier from version 0.19.1 when using version 0.22.2.post1. This might lead to breaking code or invalid results. Use at your own risk.\n",
      "  UserWarning)\n"
     ]
    }
   ],
   "source": [
    "##读入模型\n",
    "model = joblib.load('model.pkl')"
   ]
  },
  {
   "cell_type": "markdown",
   "metadata": {},
   "source": [
    "##微博排序##"
   ]
  },
  {
   "cell_type": "code",
   "execution_count": 14,
   "metadata": {},
   "outputs": [],
   "source": [
    "def load_uid():\n",
    "    uid_list = []\n",
    "    with open('../../data/uid.txt','r',encoding = 'utf-8') as f1:\n",
    "        while True:\n",
    "            line = f1.readline()\n",
    "            if not line:\n",
    "                break\n",
    "            uid_list.append(line.strip())\n",
    "        f1.close()\n",
    "    return uid_list"
   ]
  },
  {
   "cell_type": "code",
   "execution_count": 15,
   "metadata": {},
   "outputs": [],
   "source": [
    "def load_test():\n",
    "    user_test = []\n",
    "    original = {}\n",
    "    filename = '../../data/test/'+str(uid)+'.dat'\n",
    "    with open(filename,'r',encoding='utf-8') as f:\n",
    "        while True:\n",
    "            line = f.readline()\n",
    "            if not line:\n",
    "                break\n",
    "            line = eval(line)\n",
    "            wid = line['id']\n",
    "            userid = line['userid']\n",
    "            originalid = line['original']\n",
    "            if 'id' not in originalid:\n",
    "                original[wid] = wid\n",
    "            else:\n",
    "                original[wid] = originalid['id']\n",
    "            if userid == uid:\n",
    "                user_test.append(original[wid])\n",
    "        f.close()\n",
    "    return user_test"
   ]
  },
  {
   "cell_type": "code",
   "execution_count": 16,
   "metadata": {},
   "outputs": [
    {
     "name": "stdout",
     "output_type": "stream",
     "text": [
      "top10,recall: 0.135\n",
      "top10,precision: 0.54\n",
      "top20,recall: 0.21375\n",
      "top20,precision: 0.4275\n",
      "top30,recall: 0.26375\n",
      "top30,precision: 0.3516666666666667\n",
      "top40,recall: 0.30375\n",
      "top40,precision: 0.30375\n",
      "top50,recall: 0.34625\n",
      "top50,precision: 0.277\n"
     ]
    }
   ],
   "source": [
    "uid_list = load_uid()\n",
    "for num in [10,20,30,40,50]:\n",
    "    hit_count = 0\n",
    "    for uid in uid_list:\n",
    "        uid = int(uid)\n",
    "        filename = './test/'+str(uid)+'.dat'\n",
    "        test = np.loadtxt(filename)\n",
    "        wid = test[:,0]\n",
    "        x = test[:,1:]\n",
    "        x = scaler.transform(x)\n",
    "        pre = model.predict_proba(x)\n",
    "        result = {}\n",
    "        for i in range(0,len(wid)):\n",
    "            result[wid[i]] = pre[i][1]\n",
    "        result = sorted(result.items(),key=lambda x:x[1],reverse=True)\n",
    "        user_test = load_test()\n",
    "        count = 0\n",
    "        for i in range(0,num):\n",
    "            wid = int(result[i][0])\n",
    "            wid = str(wid)\n",
    "            if wid in user_test:\n",
    "                count += 1\n",
    "        hit_count += count\n",
    "    print(\"top{},recall: {}\".format(num,hit_count/800)) \n",
    "    print(\"top{},precision: {}\".format(num,hit_count/(num*20)))"
   ]
  },
  {
   "cell_type": "code",
   "execution_count": null,
   "metadata": {},
   "outputs": [],
   "source": []
  }
 ],
 "metadata": {
  "kernelspec": {
   "display_name": "Python 3",
   "language": "python",
   "name": "python3"
  },
  "language_info": {
   "codemirror_mode": {
    "name": "ipython",
    "version": 3
   },
   "file_extension": ".py",
   "mimetype": "text/x-python",
   "name": "python",
   "nbconvert_exporter": "python",
   "pygments_lexer": "ipython3",
   "version": "3.7.0"
  }
 },
 "nbformat": 4,
 "nbformat_minor": 2
}
