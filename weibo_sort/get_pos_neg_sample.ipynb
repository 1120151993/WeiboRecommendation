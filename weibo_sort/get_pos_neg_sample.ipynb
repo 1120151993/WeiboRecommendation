{
 "cells": [
  {
   "cell_type": "code",
   "execution_count": 1,
   "metadata": {},
   "outputs": [],
   "source": [
    "##获取正负样本\n",
    "##正样本：用户历史微博；负样本：在主页出现三次以上没有产生行为的微博\n",
    "def load_uid():\n",
    "    uid_list = []\n",
    "    with open('../../data/uid.txt','r',encoding = 'utf-8') as f1:\n",
    "        while True:\n",
    "            line = f1.readline()\n",
    "            if not line:\n",
    "                break\n",
    "            uid_list.append(line.strip())\n",
    "        f1.close()\n",
    "    return uid_list"
   ]
  },
  {
   "cell_type": "code",
   "execution_count": 2,
   "metadata": {},
   "outputs": [],
   "source": [
    "##读取训练集\n",
    "def load_train():\n",
    "    user_test = set()\n",
    "    show_times = {}\n",
    "    original = {}\n",
    "    filename = '../../data/train/'+str(uid)+'.dat'\n",
    "    with open(filename,'r',encoding='utf-8') as f:\n",
    "        while True:\n",
    "            line = f.readline()\n",
    "            if not line:\n",
    "                break\n",
    "            line = eval(line)\n",
    "            wid = line['id']\n",
    "            userid = line['userid']\n",
    "            originalid = line['original']\n",
    "            if 'id' not in originalid:\n",
    "                original[wid] = wid\n",
    "            else:\n",
    "                original[wid] = originalid['id']\n",
    "            if userid == uid:\n",
    "                user_test.add(original[wid])\n",
    "            if original[wid] not in show_times:\n",
    "                show_times[original[wid]] = 0\n",
    "            show_times[original[wid]] += 1\n",
    "        f.close()\n",
    "    return list(user_test),show_times"
   ]
  },
  {
   "cell_type": "code",
   "execution_count": 3,
   "metadata": {},
   "outputs": [],
   "source": [
    "##保存正负样本\n",
    "def save_sample():\n",
    "    filename = './sample/'+str(uid)+'.dat'\n",
    "    with open(filename,'w',encoding='utf-8') as f:\n",
    "        ##正样本\n",
    "        for item in user_test:\n",
    "            f.write(item+'\\t1\\n')\n",
    "        ##负样本\n",
    "        for item in neg:\n",
    "            f.write(item+'\\t0\\n')"
   ]
  },
  {
   "cell_type": "code",
   "execution_count": 6,
   "metadata": {},
   "outputs": [
    {
     "name": "stdout",
     "output_type": "stream",
     "text": [
      "412\n",
      "15\n",
      "358\n",
      "86\n",
      "195\n",
      "169\n",
      "132\n",
      "33\n",
      "62\n",
      "24\n",
      "157\n",
      "65\n",
      "181\n",
      "69\n",
      "194\n",
      "108\n",
      "338\n",
      "184\n",
      "256\n",
      "122\n",
      "3160\n",
      "3120\n"
     ]
    }
   ],
   "source": [
    "if __name__ == '__main__':\n",
    "    uid_list = load_uid()\n",
    "    neg_count = 0\n",
    "    pos_count = 0\n",
    "    for uid in uid_list:\n",
    "        uid = int(uid)\n",
    "        user_test,show_times = load_train()\n",
    "        for wid in show_times.keys():\n",
    "            if wid in user_test:\n",
    "                show_times[wid] = -1\n",
    "        show_times = sorted(show_times.items(),key=lambda x:x[1],reverse=True)\n",
    "        neg = []\n",
    "        for item in show_times:\n",
    "            if item[1] > 2:\n",
    "                neg.append(item[0])\n",
    "        neg_count += len(neg)\n",
    "        pos_count += len(user_test)\n",
    "        print(len(neg))\n",
    "        save_sample()\n",
    "    print(neg_count)\n",
    "    print(pos_count)"
   ]
  },
  {
   "cell_type": "code",
   "execution_count": null,
   "metadata": {},
   "outputs": [],
   "source": []
  }
 ],
 "metadata": {
  "kernelspec": {
   "display_name": "Python 3",
   "language": "python",
   "name": "python3"
  },
  "language_info": {
   "codemirror_mode": {
    "name": "ipython",
    "version": 3
   },
   "file_extension": ".py",
   "mimetype": "text/x-python",
   "name": "python",
   "nbconvert_exporter": "python",
   "pygments_lexer": "ipython3",
   "version": "3.7.0"
  }
 },
 "nbformat": 4,
 "nbformat_minor": 2
}
