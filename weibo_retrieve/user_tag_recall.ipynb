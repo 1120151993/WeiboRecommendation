{
 "cells": [
  {
   "cell_type": "code",
   "execution_count": 1,
   "metadata": {},
   "outputs": [],
   "source": [
    "##基于用户兴趣标签的推荐\n",
    "import math\n",
    "import numpy as np \n",
    "tag_size = 10 \n",
    "hit_count = 0"
   ]
  },
  {
   "cell_type": "code",
   "execution_count": 15,
   "metadata": {},
   "outputs": [],
   "source": [
    "##导入uid\n",
    "def load_uid():\n",
    "    uid_list = []\n",
    "    with open('../../data/uid.txt','r',encoding = 'utf-8') as f1:\n",
    "        while True:\n",
    "            line = f1.readline()\n",
    "            if not line:\n",
    "                break\n",
    "            uid_list.append(line.strip())\n",
    "        f1.close()\n",
    "    return uid_list"
   ]
  },
  {
   "cell_type": "code",
   "execution_count": 16,
   "metadata": {},
   "outputs": [],
   "source": [
    "##读入训练集\n",
    "def load_train():\n",
    "    uid_wid = {}\n",
    "    original = {}\n",
    "    filename = '../../data/train/'+str(uid)+'.dat'\n",
    "    with open(filename,'r',encoding='utf-8') as f:\n",
    "        while True:\n",
    "            line = f.readline()\n",
    "            if not line:\n",
    "                break\n",
    "            line = eval(line)\n",
    "            wid = line['id']\n",
    "            userid = line['userid']\n",
    "            originalid = line['original']\n",
    "            if 'id' not in originalid:\n",
    "                original[wid] = wid\n",
    "            else:\n",
    "                original[wid] = originalid['id']\n",
    "            if userid not in uid_wid:\n",
    "                uid_wid[userid] = []\n",
    "            uid_wid[userid].append(wid)\n",
    "        f.close()\n",
    "    return uid_wid,original  "
   ]
  },
  {
   "cell_type": "code",
   "execution_count": 17,
   "metadata": {},
   "outputs": [],
   "source": [
    "##读入微博文本\n",
    "def load_text():\n",
    "    text = {}\n",
    "    filename = '../../data/text/before_split/'+str(uid)+'.txt'\n",
    "    with open(filename,'r',encoding='utf-8') as f:\n",
    "        line = f.readline()\n",
    "        text = eval(line)\n",
    "        f.close()\n",
    "    for item in text.keys():\n",
    "        text[item] = text[item].replace(' ','') ##去掉文本中的空格\n",
    "    return text  "
   ]
  },
  {
   "cell_type": "code",
   "execution_count": 18,
   "metadata": {},
   "outputs": [],
   "source": [
    "#将原始微博与转发微博合并\n",
    "def combine_text(item):\n",
    "    text = item['text']\n",
    "    original = item['original']\n",
    "    if original.get('text'):\n",
    "        text = text + \"//\" + original['text']\n",
    "    return text"
   ]
  },
  {
   "cell_type": "code",
   "execution_count": 19,
   "metadata": {},
   "outputs": [],
   "source": [
    "##读入测试集\n",
    "def load_test():\n",
    "    test = [] ##测试集\n",
    "    user_test = [] ##目标用户微博\n",
    "    filename = '../../data/test/'+str(uid)+'.dat'\n",
    "    with open(filename,'r',encoding='utf-8') as f:\n",
    "        while True:\n",
    "            line = f.readline()\n",
    "            if not line:\n",
    "                break\n",
    "            line = eval(line)\n",
    "            wid = line['id']\n",
    "            userid = line['userid']\n",
    "            originalid = line['original']\n",
    "            if 'id' not in originalid:\n",
    "                original[wid] = wid\n",
    "            else:\n",
    "                original[wid] = originalid['id']\n",
    "            if userid not in uid_wid:\n",
    "                uid_wid[userid] = []\n",
    "            uid_wid[userid].append(wid)\n",
    "            test.append(wid)\n",
    "            if userid == uid:\n",
    "                user_test.append(wid)\n",
    "            t = combine_text(line)\n",
    "            text[wid] = t\n",
    "        f.close()\n",
    "    return test,user_test"
   ]
  },
  {
   "cell_type": "code",
   "execution_count": 20,
   "metadata": {},
   "outputs": [],
   "source": [
    "##最大最小归一化\n",
    "def max_min(data):\n",
    "    ma = 0\n",
    "    mi = 100\n",
    "    for item in data.keys():\n",
    "        if data[item] > ma:\n",
    "            ma = data[item]\n",
    "        if data[item] < mi:\n",
    "            mi = data[item]\n",
    "    for item in data.keys():\n",
    "        data[item] = (data[item] - mi) / (ma-mi)\n",
    "    return data"
   ]
  },
  {
   "cell_type": "code",
   "execution_count": 21,
   "metadata": {},
   "outputs": [],
   "source": [
    "##保存召回结果\n",
    "def save_result(result):\n",
    "    filename = './weibo_by_tag/'+str(uid)+'.dat'\n",
    "    with open(filename,'w',encoding='utf-8') as f:\n",
    "        for item in result:\n",
    "            f.write(str(item)+'\\n')\n",
    "        f.close()"
   ]
  },
  {
   "cell_type": "code",
   "execution_count": 22,
   "metadata": {},
   "outputs": [],
   "source": [
    "def get_result(result):\n",
    "    weibo = []##推荐集中用户产生行为的微博\n",
    "    count = 0\n",
    "    for wid in user_test:\n",
    "        weibo.append(original[wid])\n",
    "    for item in result:\n",
    "        if item in weibo:\n",
    "            count += 1\n",
    "            hit_set.add(item)\n",
    "    save_result(result)\n",
    "    return count"
   ]
  },
  {
   "cell_type": "code",
   "execution_count": 23,
   "metadata": {},
   "outputs": [],
   "source": [
    "def load_tfidf():\n",
    "    tfidf = {}\n",
    "    filename = './user_interest_tag/'+ str(uid) + '_usertag_by_tfidf.dat'\n",
    "    with open(filename,'r',encoding = 'utf-8') as f:\n",
    "        count = 0\n",
    "        while True:\n",
    "            count += 1\n",
    "            line = f.readline().strip()\n",
    "            if not line:\n",
    "                break\n",
    "            line = line.split('\\t')\n",
    "            tfidf[line[0]] = float(line[1])\n",
    "            if count >= tag_size:\n",
    "                break\n",
    "        f.close()\n",
    "    return tfidf"
   ]
  },
  {
   "cell_type": "code",
   "execution_count": 24,
   "metadata": {},
   "outputs": [],
   "source": [
    "##导入对照组标签\n",
    "def load_textrank():\n",
    "    textrank = {}\n",
    "    filename = './user_interest_tag/'+ str(uid) + '_usertag_by_textrank.dat'\n",
    "    with open(filename,'r',encoding = 'utf-8') as f:\n",
    "        count = 0\n",
    "        while True:\n",
    "            count += 1\n",
    "            line = f.readline().strip()\n",
    "            if not line:\n",
    "                break\n",
    "            line = line.split('\\t')\n",
    "            textrank[line[0]] = float(line[1])\n",
    "            if count >= tag_size:\n",
    "                break\n",
    "        f.close()\n",
    "    return textrank"
   ]
  },
  {
   "cell_type": "code",
   "execution_count": 25,
   "metadata": {},
   "outputs": [],
   "source": [
    "##导入实验组标签\n",
    "def load_textrank_extend():\n",
    "    textrank = {}\n",
    "    filename = './user_interest_tag/'+ str(uid) + '_usertag_by_textrank_extend.dat'\n",
    "    with open(filename,'r',encoding = 'utf-8') as f:\n",
    "        count = 0\n",
    "        while True:\n",
    "            count += 1\n",
    "            line = f.readline().strip()\n",
    "            if not line:\n",
    "                break\n",
    "            line = line.split('\\t')\n",
    "            textrank[line[0]] = float(line[1])\n",
    "            if count >= tag_size:\n",
    "                break\n",
    "        f.close()\n",
    "    return textrank"
   ]
  },
  {
   "cell_type": "code",
   "execution_count": 26,
   "metadata": {},
   "outputs": [],
   "source": [
    "def textrank_recall():\n",
    "   # print(\"textrank算法：\")\n",
    "    textrank = load_textrank()\n",
    "    textrank = max_min(textrank)\n",
    "    score = {}\n",
    "    for i in test:\n",
    "        score[i] = 0\n",
    "        for tag in textrank.keys():\n",
    "            if tag in text[i]:\n",
    "                score[i] += textrank[tag]\n",
    "    score = sorted(score.items(),key=lambda x:x[1],reverse=True)\n",
    "    result = set()\n",
    "    n = len(score)\n",
    "    for i in range(0,n):\n",
    "        if score[i][1] <= 0:\n",
    "            break\n",
    "        result.add(original[score[i][0]]) \n",
    "        if len(result) >= num:\n",
    "            break\n",
    "    hit_count = get_result(result)\n",
    "    return result,hit_count"
   ]
  },
  {
   "cell_type": "code",
   "execution_count": 27,
   "metadata": {},
   "outputs": [],
   "source": [
    "def textrank_extend_recall():\n",
    "    #print(\"textrank扩展算法：\")\n",
    "    textrank = load_textrank_extend()\n",
    "    textrank = max_min(textrank)\n",
    "    #print(textrank)\n",
    "    score = {}\n",
    "    for i in test:\n",
    "        score[i] = 0\n",
    "        for tag in textrank.keys():\n",
    "            l = tag.split(',')\n",
    "            flag = 0\n",
    "            for tt in l:\n",
    "                if tt not in text[i]:\n",
    "                    flag = 1\n",
    "                    break\n",
    "            if flag == 0:\n",
    "                score[i] += textrank[tag]\n",
    "    score = sorted(score.items(),key=lambda x:x[1],reverse=True)\n",
    "    result = set()\n",
    "    n = len(score)\n",
    "    for i in range(0,n):\n",
    "        if score[i][1] <= 0:\n",
    "            break\n",
    "        result.add(original[score[i][0]])  ##推荐集里为原创微博(可能推荐的多条微博实际为一条原创微博的转发)\n",
    "        if len(result) >= num:\n",
    "            break\n",
    "    #print(len(result))\n",
    "    hit_count = get_result(result)\n",
    "    return result,hit_count"
   ]
  },
  {
   "cell_type": "code",
   "execution_count": 28,
   "metadata": {
    "scrolled": true
   },
   "outputs": [
    {
     "name": "stdout",
     "output_type": "stream",
     "text": [
      "TTI top10,recall: 0.0475\n",
      "TTI top10,precision: 0.19\n",
      "TE top10,recall: 0.055\n",
      "TE top10,precision: 0.22\n",
      "TTI top20,recall: 0.08\n",
      "TTI top20,precision: 0.16\n",
      "TE top20,recall: 0.0975\n",
      "TE top20,precision: 0.195\n",
      "TTI top30,recall: 0.105\n",
      "TTI top30,precision: 0.14\n",
      "TE top30,recall: 0.14\n",
      "TE top30,precision: 0.18666666666666668\n",
      "TTI top40,recall: 0.12875\n",
      "TTI top40,precision: 0.12875\n",
      "TE top40,recall: 0.16\n",
      "TE top40,precision: 0.16\n",
      "TTI top50,recall: 0.155\n",
      "TTI top50,precision: 0.124\n",
      "TE top50,recall: 0.16875\n",
      "TE top50,precision: 0.135\n"
     ]
    }
   ],
   "source": [
    "if __name__ == '__main__':\n",
    "    uid_list = load_uid()\n",
    "    for num in [10,20,30,40,50]:\n",
    "        hit_count1 = 0\n",
    "        hit_count2 = 0\n",
    "        hit_set = set()\n",
    "        for uid in uid_list:\n",
    "            #print(uid)\n",
    "            uid = int(uid)\n",
    "            uid_wid,original = load_train()  ##读取训练集\n",
    "            text = load_text() ##读取微博文本内容\n",
    "            test,user_test = load_test()  ##读取测试集\n",
    "            result,count1 = textrank_recall()  ##对照组召回\n",
    "            extend_result,count2 = textrank_extend_recall() ##实验组召回\n",
    "            hit_count1 += count1\n",
    "            hit_count2 += count2\n",
    "            save_result(extend_result)\n",
    "        print(\"TTI top{},recall: {}\".format(num,hit_count1/800)) \n",
    "        print(\"TTI top{},precision: {}\".format(num,hit_count1/(num*20)))\n",
    "        print(\"TE top{},recall: {}\".format(num,hit_count2/800)) \n",
    "        print(\"TE top{},precision: {}\".format(num,hit_count2/(num*20)))"
   ]
  },
  {
   "cell_type": "code",
   "execution_count": null,
   "metadata": {},
   "outputs": [],
   "source": []
  }
 ],
 "metadata": {
  "kernelspec": {
   "display_name": "Python 3",
   "language": "python",
   "name": "python3"
  },
  "language_info": {
   "codemirror_mode": {
    "name": "ipython",
    "version": 3
   },
   "file_extension": ".py",
   "mimetype": "text/x-python",
   "name": "python",
   "nbconvert_exporter": "python",
   "pygments_lexer": "ipython3",
   "version": "3.7.0"
  }
 },
 "nbformat": 4,
 "nbformat_minor": 2
}
