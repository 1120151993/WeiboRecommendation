{
 "cells": [
  {
   "cell_type": "code",
   "execution_count": 1,
   "metadata": {},
   "outputs": [],
   "source": [
    "##基于用户的协同过滤\n",
    "import math\n",
    "import numpy as np \n",
    "rec_size =50 #推荐集数"
   ]
  },
  {
   "cell_type": "code",
   "execution_count": 15,
   "metadata": {},
   "outputs": [],
   "source": [
    "##读取uid list\n",
    "def load_uid():\n",
    "    uid_list = []\n",
    "    with open('../../data/uid.txt','r',encoding = 'utf-8') as f1:\n",
    "        while True:\n",
    "            line = f1.readline()\n",
    "            if not line:\n",
    "                break\n",
    "            uid_list.append(line.strip())\n",
    "        f1.close()\n",
    "    return uid_list"
   ]
  },
  {
   "cell_type": "code",
   "execution_count": 16,
   "metadata": {},
   "outputs": [],
   "source": [
    "##最大最小归一化\n",
    "def max_min(data):\n",
    "    ma = 0\n",
    "    mi = 100\n",
    "    for item in data.keys():\n",
    "        if data[item] > ma:\n",
    "            ma = data[item]\n",
    "        if data[item] < mi:\n",
    "            mi = data[item]\n",
    "    for item in data.keys():\n",
    "        data[item] = (data[item] - mi) / (ma-mi)\n",
    "    return data"
   ]
  },
  {
   "cell_type": "code",
   "execution_count": 17,
   "metadata": {},
   "outputs": [],
   "source": [
    "##读取目标用户关注列表\n",
    "def load_follow():\n",
    "    follow = []\n",
    "    filename = '../../data/sample/user_'+str(uid)+'_follower.dat'\n",
    "    with open(filename,'r',encoding = 'utf-8') as f:\n",
    "        follow = f.readline().strip()\n",
    "        follow = eval(follow)\n",
    "        f.close()\n",
    "    return follow"
   ]
  },
  {
   "cell_type": "code",
   "execution_count": 18,
   "metadata": {},
   "outputs": [],
   "source": [
    "##读取目标用户互相关注列表\n",
    "def load_huguan():\n",
    "    filename = '../../data/sample/user_'+str(uid)+'_huguan.dat'\n",
    "    with open(filename,'r',encoding = 'utf-8') as f:\n",
    "        huguan = f.readline().strip()\n",
    "        huguan = eval(huguan)\n",
    "        f.close()\n",
    "    return huguan"
   ]
  },
  {
   "cell_type": "code",
   "execution_count": 19,
   "metadata": {},
   "outputs": [],
   "source": [
    "##读入训练集\n",
    "def load_train():\n",
    "    uid_wid = {}\n",
    "    original = {}\n",
    "    author = {}\n",
    "    text = {}\n",
    "    filename = '../../data/train/'+str(uid)+'.dat'\n",
    "    with open(filename,'r',encoding='utf-8') as f:\n",
    "        while True:\n",
    "            line = f.readline()\n",
    "            if not line:\n",
    "                break\n",
    "            line = eval(line)\n",
    "            wid = line['id']\n",
    "            userid = line['userid']\n",
    "            originalid = line['original']\n",
    "            if 'id' not in originalid:\n",
    "                original[wid] = wid\n",
    "                author[wid] = userid\n",
    "                text[wid] = line['text']\n",
    "            else:\n",
    "                original[wid] = originalid['id']\n",
    "                text[original[wid]] = originalid['text']\n",
    "            if userid not in uid_wid:\n",
    "                uid_wid[userid] = []\n",
    "            uid_wid[userid].append(original[wid])\n",
    "        f.close()\n",
    "    return uid_wid,original,author,text"
   ]
  },
  {
   "cell_type": "code",
   "execution_count": 20,
   "metadata": {},
   "outputs": [],
   "source": [
    "##读入测试集\n",
    "def load_test():\n",
    "    test = []\n",
    "    user_test = []\n",
    "    filename = '../../data/test/'+str(uid)+'.dat'\n",
    "    with open(filename,'r',encoding='utf-8') as f:\n",
    "        while True:\n",
    "            line = f.readline()\n",
    "            if not line:\n",
    "                break\n",
    "            line = eval(line)\n",
    "            wid = line['id']\n",
    "            userid = line['userid']\n",
    "            originalid = line['original']\n",
    "            if 'id' not in originalid:\n",
    "                original[wid] = wid\n",
    "                author[wid] = userid\n",
    "                \n",
    "            else:\n",
    "                original[wid] = originalid['id']\n",
    "            if userid not in uid_wid:\n",
    "                uid_wid[userid] = []\n",
    "            uid_wid[userid].append(original[wid])\n",
    "            test.append(original[wid])\n",
    "            if userid == uid:\n",
    "                user_test.append(original[wid])\n",
    "            if original[wid] not in wid_uid:\n",
    "                wid_uid[original[wid]] = []\n",
    "            wid_uid[original[wid]].append(userid)\n",
    "        f.close()\n",
    "    return test,user_test"
   ]
  },
  {
   "cell_type": "code",
   "execution_count": 21,
   "metadata": {},
   "outputs": [],
   "source": [
    "##微博-用户矩阵\n",
    "def get_wid_uid():\n",
    "    wid_uid = {}\n",
    "    for u in uid_wid.keys():\n",
    "        for w in uid_wid[u]:\n",
    "            if w not in wid_uid:\n",
    "                wid_uid[w] = []\n",
    "            wid_uid[w].append(u)\n",
    "    return wid_uid"
   ]
  },
  {
   "cell_type": "code",
   "execution_count": 22,
   "metadata": {},
   "outputs": [],
   "source": [
    "##交互相似度\n",
    "def interact_sim():\n",
    "    sim = {}\n",
    "    for u in follow:\n",
    "        sim[int(u)] = 0\n",
    "    for w in uid_wid[uid]:##目标用户的每条微博\n",
    "        for u in wid_uid[w]: ##产生行为的用户\n",
    "            if u == uid:\n",
    "                continue\n",
    "            sim[u] += 1\n",
    "        if w in author and author[w] != uid: ##原创作者相似度再加一\n",
    "            sim[author[w]] += 1\n",
    "    for u in sim:\n",
    "        if u not in uid_wid:\n",
    "            continue\n",
    "        sim[u] /= math.sqrt(len(uid_wid[u]))\n",
    "    return sim"
   ]
  },
  {
   "cell_type": "code",
   "execution_count": 23,
   "metadata": {},
   "outputs": [],
   "source": [
    "##保存召回结果\n",
    "def save_result(result):\n",
    "    filename = './weibo_by_CF/'+str(uid)+'.dat'\n",
    "    with open(filename,'w',encoding='utf-8') as f:\n",
    "        for item in result:\n",
    "            f.write(str(item)+'\\n')\n",
    "        f.close()"
   ]
  },
  {
   "cell_type": "code",
   "execution_count": 24,
   "metadata": {},
   "outputs": [],
   "source": [
    "def get_result(sim):\n",
    "    score = {}\n",
    "    for wid in test:\n",
    "        score[wid] = 0\n",
    "        for u in wid_uid[wid]:\n",
    "            if u == uid:\n",
    "                continue         \n",
    "            score[wid] += sim[u]\n",
    "    score = sorted(score.items(),key=lambda x:x[1],reverse=True)\n",
    "    result = set()\n",
    "    weibo = []\n",
    "    for i in range(0,rec_size):\n",
    "        if score[i][1] <= 0:\n",
    "            break\n",
    "        result.add(score[i][0])\n",
    "    count = 0\n",
    "    for item in result:\n",
    "        if item in user_test:\n",
    "            count += 1\n",
    "    save_result(result)\n",
    "    return count"
   ]
  },
  {
   "cell_type": "code",
   "execution_count": 25,
   "metadata": {},
   "outputs": [],
   "source": [
    "##保存用户相似度\n",
    "def save_sim():\n",
    "    filename = './user_sim/'+str(uid)+'.dat'\n",
    "    with open(filename,'w',encoding='utf-8') as f:\n",
    "        for item in sim.keys():\n",
    "            f.write(str(item)+'\\t'+str(sim[item])+'\\n')\n",
    "        f.close()"
   ]
  },
  {
   "cell_type": "code",
   "execution_count": 26,
   "metadata": {
    "scrolled": true
   },
   "outputs": [
    {
     "name": "stdout",
     "output_type": "stream",
     "text": [
      "top10, recall: 0.085\n",
      "top10, precision: 0.34\n",
      "top20, recall: 0.145\n",
      "top20, precision: 0.29\n",
      "top30, recall: 0.205\n",
      "top30, precision: 0.2733333333333333\n",
      "top40, recall: 0.25\n",
      "top40, precision: 0.25\n",
      "top50, recall: 0.275\n",
      "top50, precision: 0.22\n"
     ]
    }
   ],
   "source": [
    "if __name__ == '__main__':\n",
    "    uid_list = load_uid()\n",
    "    for rec_size in [10,20,30,40,50]:\n",
    "        content_count = 0\n",
    "        fam_count = 0\n",
    "        interact_count = 0\n",
    "        res = {}\n",
    "        count = 0\n",
    "        for uid in uid_list:\n",
    "            uid = int(uid)\n",
    "            uid_wid,original,author,text = load_train()  ##读取训练集\n",
    "            huguan = load_huguan() ##读取互关列表\n",
    "            wid_uid = get_wid_uid() ##微博-用户矩阵\n",
    "            follow = load_follow() ##获取关注用户列表\n",
    "            sim = interact_sim() ##相似度\n",
    "            save_sim()\n",
    "            test,user_test = load_test()  ##获取测试集\n",
    "            count += get_result(sim)\n",
    "        print(\"top{}, recall: {}\".format(rec_size,count/800)) \n",
    "        print(\"top{}, precision: {}\".format(rec_size,count/(rec_size*20)))"
   ]
  },
  {
   "cell_type": "code",
   "execution_count": null,
   "metadata": {},
   "outputs": [],
   "source": []
  }
 ],
 "metadata": {
  "kernelspec": {
   "display_name": "Python 3",
   "language": "python",
   "name": "python3"
  },
  "language_info": {
   "codemirror_mode": {
    "name": "ipython",
    "version": 3
   },
   "file_extension": ".py",
   "mimetype": "text/x-python",
   "name": "python",
   "nbconvert_exporter": "python",
   "pygments_lexer": "ipython3",
   "version": "3.7.0"
  }
 },
 "nbformat": 4,
 "nbformat_minor": 2
}
