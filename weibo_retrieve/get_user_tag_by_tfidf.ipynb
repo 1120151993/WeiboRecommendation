{
 "cells": [
  {
   "cell_type": "code",
   "execution_count": 1,
   "metadata": {},
   "outputs": [],
   "source": [
    "##使用TF-IDF算法计算单词权重\n",
    "import math\n",
    "import numpy as np "
   ]
  },
  {
   "cell_type": "code",
   "execution_count": 2,
   "metadata": {},
   "outputs": [],
   "source": [
    "##导入目标用户id\n",
    "def load_uid():\n",
    "    uid_list = []\n",
    "    with open('../../data/uid.txt','r',encoding = 'utf-8') as f1:\n",
    "        while True:\n",
    "            line = f1.readline()\n",
    "            if not line:\n",
    "                break\n",
    "            uid_list.append(line.strip())\n",
    "        f1.close()\n",
    "    return uid_list"
   ]
  },
  {
   "cell_type": "code",
   "execution_count": 3,
   "metadata": {},
   "outputs": [],
   "source": [
    "##导入训练集\n",
    "def load_train():\n",
    "    uid_wid = {}\n",
    "    filename = '../../data/train/'+str(uid)+'.dat'\n",
    "    with open(filename,'r',encoding='utf-8') as f:\n",
    "        while True:\n",
    "            line = f.readline()\n",
    "            if not line:\n",
    "                break\n",
    "            line = eval(line)\n",
    "            w = line['id']\n",
    "            userid = line['userid']\n",
    "            if userid not in uid_wid:\n",
    "                uid_wid[userid] = []\n",
    "            uid_wid[userid].append(w)\n",
    "        f.close()\n",
    "    return uid_wid  "
   ]
  },
  {
   "cell_type": "code",
   "execution_count": 4,
   "metadata": {},
   "outputs": [],
   "source": [
    "##导入微博文本\n",
    "def load_text():\n",
    "    text = {}\n",
    "    filename = '../../data/text/after_filter/'+str(uid)+'.dat'\n",
    "    with open(filename,'r',encoding='utf-8') as f:\n",
    "        while True:\n",
    "            line = f.readline().strip()\n",
    "            if not line:\n",
    "                break\n",
    "            line = line.split(':')\n",
    "            words = line[1].split(' ')\n",
    "            words = set(words)\n",
    "            words = list(words)\n",
    "            #print(words)\n",
    "            text[line[0]] = words\n",
    "        f.close()\n",
    "    for u in uid_wid:\n",
    "        for w in uid_wid[u]:\n",
    "            if w not in text:\n",
    "                text[w] = []\n",
    "    return text  "
   ]
  },
  {
   "cell_type": "code",
   "execution_count": 5,
   "metadata": {},
   "outputs": [],
   "source": [
    "def get_word_list():\n",
    "    word_list = []\n",
    "    word_dict = {}\n",
    "    num = 0\n",
    "    for w in uid_wid[uid]:\n",
    "        for item in text[w]:\n",
    "            if item not in word_dict:\n",
    "                word_dict[item] = num\n",
    "                num += 1\n",
    "            word_list.append(item)\n",
    "    return word_list,word_dict       "
   ]
  },
  {
   "cell_type": "code",
   "execution_count": 6,
   "metadata": {},
   "outputs": [],
   "source": [
    "##计算TF-IDF权重 \n",
    "def compute_tf_idf():\n",
    "    ##compute tf:\n",
    "    tf = {}\n",
    "    num = len(word_list)\n",
    "    for item in word_dict:\n",
    "        tf[item] = word_list.count(item)\n",
    "        tf[item] /= num\n",
    "    \n",
    "    ##compute idf:\n",
    "    idf = {}\n",
    "    n = len(uid_wid)\n",
    "    for item in word_dict:##词典里的每个单词\n",
    "        count = 0\n",
    "        for u in uid_wid:##每个用户\n",
    "            flag = 0\n",
    "            for wid in uid_wid[u]:##微博文本是否包含该单词\n",
    "                if item in text[wid]:\n",
    "                    flag = 1\n",
    "                    break\n",
    "            if flag == 1:\n",
    "                count += 1\n",
    "        idf[item] = math.log(n/(count+1))+1\n",
    "    tfidf = {}\n",
    "    for item in tf.keys():\n",
    "        tfidf[item] = tf[item] * idf[item]\n",
    "    return tfidf   "
   ]
  },
  {
   "cell_type": "code",
   "execution_count": 10,
   "metadata": {},
   "outputs": [],
   "source": [
    "##保存结果\n",
    "def save_result():\n",
    "    user_tag = sorted(tfidf.items(),key=lambda x:x[1],reverse=True)\n",
    "    filename = './user_interest_tag/'+ str(uid) + '_usertag_by_tfidf.dat'\n",
    "    with open(filename,'w',encoding = 'utf-8') as f:\n",
    "        for item in user_tag:\n",
    "            f.write(item[0] + '\\t'  + str(item[1]) + '\\n')\n",
    "        f.close()"
   ]
  },
  {
   "cell_type": "code",
   "execution_count": 11,
   "metadata": {},
   "outputs": [],
   "source": [
    "if __name__ == '__main__':\n",
    "    uid_list = load_uid()\n",
    "    for uid in uid_list:\n",
    "        uid = int(uid)\n",
    "        uid_wid = load_train()  ##读取训练集\n",
    "        text = load_text()  ##读取微博文本\n",
    "        word_list,word_dict = get_word_list() ##获得单词列表\n",
    "        tfidf = compute_tf_idf() ##计算TF-IDF权重\n",
    "        save_result() ##保存结果"
   ]
  }
 ],
 "metadata": {
  "kernelspec": {
   "display_name": "Python 3",
   "language": "python",
   "name": "python3"
  },
  "language_info": {
   "codemirror_mode": {
    "name": "ipython",
    "version": 3
   },
   "file_extension": ".py",
   "mimetype": "text/x-python",
   "name": "python",
   "nbconvert_exporter": "python",
   "pygments_lexer": "ipython3",
   "version": "3.7.0"
  }
 },
 "nbformat": 4,
 "nbformat_minor": 2
}
